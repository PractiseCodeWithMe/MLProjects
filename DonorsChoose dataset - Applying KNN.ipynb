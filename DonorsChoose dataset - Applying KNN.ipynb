{
 "cells": [
  {
   "cell_type": "code",
   "execution_count": 2,
   "metadata": {},
   "outputs": [],
   "source": [
    "%matplotlib inline\n",
    "import warnings\n",
    "warnings.filterwarnings(\"ignore\")\n",
    "\n",
    "import pandas as pd\n",
    "import numpy as np\n",
    "import nltk\n",
    "import matplotlib.pyplot as plt\n",
    "import seaborn as sns\n",
    "import re\n",
    "import pickle\n",
    "import os\n",
    "\n",
    "from sklearn.feature_extraction.text import TfidfVectorizer\n",
    "from sklearn.feature_extraction.text import CountVectorizer\n",
    "from sklearn.metrics import confusion_matrix\n",
    "from sklearn import metrics\n",
    "from sklearn.metrics import roc_curve, auc\n",
    "from tqdm import tqdm\n",
    "from collections import Counter"
   ]
  },
  {
   "cell_type": "code",
   "execution_count": 3,
   "metadata": {},
   "outputs": [
    {
     "data": {
      "text/plain": [
       "(5000, 9)"
      ]
     },
     "execution_count": 3,
     "metadata": {},
     "output_type": "execute_result"
    }
   ],
   "source": [
    "data = pd.read_csv('preprocessed_data.csv',nrows = 5000)\n",
    "data.shape"
   ]
  },
  {
   "cell_type": "code",
   "execution_count": 4,
   "metadata": {},
   "outputs": [
    {
     "data": {
      "text/html": [
       "<div>\n",
       "<style scoped>\n",
       "    .dataframe tbody tr th:only-of-type {\n",
       "        vertical-align: middle;\n",
       "    }\n",
       "\n",
       "    .dataframe tbody tr th {\n",
       "        vertical-align: top;\n",
       "    }\n",
       "\n",
       "    .dataframe thead th {\n",
       "        text-align: right;\n",
       "    }\n",
       "</style>\n",
       "<table border=\"1\" class=\"dataframe\">\n",
       "  <thead>\n",
       "    <tr style=\"text-align: right;\">\n",
       "      <th></th>\n",
       "      <th>school_state</th>\n",
       "      <th>teacher_prefix</th>\n",
       "      <th>project_grade_category</th>\n",
       "      <th>teacher_number_of_previously_posted_projects</th>\n",
       "      <th>project_is_approved</th>\n",
       "      <th>clean_categories</th>\n",
       "      <th>clean_subcategories</th>\n",
       "      <th>essay</th>\n",
       "      <th>price</th>\n",
       "    </tr>\n",
       "  </thead>\n",
       "  <tbody>\n",
       "    <tr>\n",
       "      <th>0</th>\n",
       "      <td>ca</td>\n",
       "      <td>mrs</td>\n",
       "      <td>grades_prek_2</td>\n",
       "      <td>53</td>\n",
       "      <td>1</td>\n",
       "      <td>math_science</td>\n",
       "      <td>appliedsciences health_lifescience</td>\n",
       "      <td>i fortunate enough use fairy tale stem kits cl...</td>\n",
       "      <td>725.05</td>\n",
       "    </tr>\n",
       "    <tr>\n",
       "      <th>1</th>\n",
       "      <td>ut</td>\n",
       "      <td>ms</td>\n",
       "      <td>grades_3_5</td>\n",
       "      <td>4</td>\n",
       "      <td>1</td>\n",
       "      <td>specialneeds</td>\n",
       "      <td>specialneeds</td>\n",
       "      <td>imagine 8 9 years old you third grade classroo...</td>\n",
       "      <td>213.03</td>\n",
       "    </tr>\n",
       "    <tr>\n",
       "      <th>2</th>\n",
       "      <td>ca</td>\n",
       "      <td>mrs</td>\n",
       "      <td>grades_prek_2</td>\n",
       "      <td>10</td>\n",
       "      <td>1</td>\n",
       "      <td>literacy_language</td>\n",
       "      <td>literacy</td>\n",
       "      <td>having class 24 students comes diverse learner...</td>\n",
       "      <td>329.00</td>\n",
       "    </tr>\n",
       "    <tr>\n",
       "      <th>3</th>\n",
       "      <td>ga</td>\n",
       "      <td>mrs</td>\n",
       "      <td>grades_prek_2</td>\n",
       "      <td>2</td>\n",
       "      <td>1</td>\n",
       "      <td>appliedlearning</td>\n",
       "      <td>earlydevelopment</td>\n",
       "      <td>i recently read article giving students choice...</td>\n",
       "      <td>481.04</td>\n",
       "    </tr>\n",
       "    <tr>\n",
       "      <th>4</th>\n",
       "      <td>wa</td>\n",
       "      <td>mrs</td>\n",
       "      <td>grades_3_5</td>\n",
       "      <td>2</td>\n",
       "      <td>1</td>\n",
       "      <td>literacy_language</td>\n",
       "      <td>literacy</td>\n",
       "      <td>my students crave challenge eat obstacles brea...</td>\n",
       "      <td>17.74</td>\n",
       "    </tr>\n",
       "  </tbody>\n",
       "</table>\n",
       "</div>"
      ],
      "text/plain": [
       "  school_state teacher_prefix project_grade_category  \\\n",
       "0           ca            mrs          grades_prek_2   \n",
       "1           ut             ms             grades_3_5   \n",
       "2           ca            mrs          grades_prek_2   \n",
       "3           ga            mrs          grades_prek_2   \n",
       "4           wa            mrs             grades_3_5   \n",
       "\n",
       "   teacher_number_of_previously_posted_projects  project_is_approved  \\\n",
       "0                                            53                    1   \n",
       "1                                             4                    1   \n",
       "2                                            10                    1   \n",
       "3                                             2                    1   \n",
       "4                                             2                    1   \n",
       "\n",
       "    clean_categories                 clean_subcategories  \\\n",
       "0       math_science  appliedsciences health_lifescience   \n",
       "1       specialneeds                        specialneeds   \n",
       "2  literacy_language                            literacy   \n",
       "3    appliedlearning                    earlydevelopment   \n",
       "4  literacy_language                            literacy   \n",
       "\n",
       "                                               essay   price  \n",
       "0  i fortunate enough use fairy tale stem kits cl...  725.05  \n",
       "1  imagine 8 9 years old you third grade classroo...  213.03  \n",
       "2  having class 24 students comes diverse learner...  329.00  \n",
       "3  i recently read article giving students choice...  481.04  \n",
       "4  my students crave challenge eat obstacles brea...   17.74  "
      ]
     },
     "execution_count": 4,
     "metadata": {},
     "output_type": "execute_result"
    }
   ],
   "source": [
    "data.head()"
   ]
  },
  {
   "cell_type": "code",
   "execution_count": 22,
   "metadata": {},
   "outputs": [
    {
     "data": {
      "text/html": [
       "<div>\n",
       "<style scoped>\n",
       "    .dataframe tbody tr th:only-of-type {\n",
       "        vertical-align: middle;\n",
       "    }\n",
       "\n",
       "    .dataframe tbody tr th {\n",
       "        vertical-align: top;\n",
       "    }\n",
       "\n",
       "    .dataframe thead th {\n",
       "        text-align: right;\n",
       "    }\n",
       "</style>\n",
       "<table border=\"1\" class=\"dataframe\">\n",
       "  <thead>\n",
       "    <tr style=\"text-align: right;\">\n",
       "      <th></th>\n",
       "      <th>school_state</th>\n",
       "      <th>teacher_prefix</th>\n",
       "      <th>project_grade_category</th>\n",
       "      <th>teacher_number_of_previously_posted_projects</th>\n",
       "      <th>clean_categories</th>\n",
       "      <th>clean_subcategories</th>\n",
       "      <th>essay</th>\n",
       "      <th>price</th>\n",
       "    </tr>\n",
       "  </thead>\n",
       "  <tbody>\n",
       "    <tr>\n",
       "      <th>0</th>\n",
       "      <td>ca</td>\n",
       "      <td>mrs</td>\n",
       "      <td>grades_prek_2</td>\n",
       "      <td>53</td>\n",
       "      <td>math_science</td>\n",
       "      <td>appliedsciences health_lifescience</td>\n",
       "      <td>i fortunate enough use fairy tale stem kits cl...</td>\n",
       "      <td>725.05</td>\n",
       "    </tr>\n",
       "    <tr>\n",
       "      <th>1</th>\n",
       "      <td>ut</td>\n",
       "      <td>ms</td>\n",
       "      <td>grades_3_5</td>\n",
       "      <td>4</td>\n",
       "      <td>specialneeds</td>\n",
       "      <td>specialneeds</td>\n",
       "      <td>imagine 8 9 years old you third grade classroo...</td>\n",
       "      <td>213.03</td>\n",
       "    </tr>\n",
       "  </tbody>\n",
       "</table>\n",
       "</div>"
      ],
      "text/plain": [
       "  school_state teacher_prefix project_grade_category  \\\n",
       "0           ca            mrs          grades_prek_2   \n",
       "1           ut             ms             grades_3_5   \n",
       "\n",
       "   teacher_number_of_previously_posted_projects clean_categories  \\\n",
       "0                                            53     math_science   \n",
       "1                                             4     specialneeds   \n",
       "\n",
       "                  clean_subcategories  \\\n",
       "0  appliedsciences health_lifescience   \n",
       "1                        specialneeds   \n",
       "\n",
       "                                               essay   price  \n",
       "0  i fortunate enough use fairy tale stem kits cl...  725.05  \n",
       "1  imagine 8 9 years old you third grade classroo...  213.03  "
      ]
     },
     "execution_count": 22,
     "metadata": {},
     "output_type": "execute_result"
    }
   ],
   "source": [
    "y = data['project_is_approved'].values\n",
    "x = data.drop(['project_is_approved'],axis = 1)\n",
    "x.head(2)"
   ]
  },
  {
   "cell_type": "markdown",
   "metadata": {},
   "source": [
    "## Stratified sampling"
   ]
  },
  {
   "cell_type": "code",
   "execution_count": 23,
   "metadata": {},
   "outputs": [],
   "source": [
    "from sklearn.model_selection import train_test_split\n",
    "xtrain, xtest, ytrain, ytest = train_test_split(x, y, test_size=0.33, stratify = y)\n",
    "xtrain, xcv, ytrain, ycv = train_test_split(xtrain, ytrain, test_size=0.33, stratify = ytrain)"
   ]
  },
  {
   "cell_type": "markdown",
   "metadata": {},
   "source": [
    "## Encoding the text & categorical features using count vectorizer"
   ]
  },
  {
   "cell_type": "markdown",
   "metadata": {},
   "source": [
    "### Essay"
   ]
  },
  {
   "cell_type": "code",
   "execution_count": 29,
   "metadata": {},
   "outputs": [],
   "source": [
    "vect = CountVectorizer(min_df = 10, ngram_range = (1,4), max_features = 50000)\n",
    "vect.fit(xtrain['essay'].values)\n",
    "xtrain_essay_bow = vect.transform(xtrain['essay'].values)\n",
    "xcv_essay_bow = vect.transform(xcv['essay'].values)\n",
    "xtest_essay_bow = vect.transform(xtest['essay'].values)"
   ]
  },
  {
   "cell_type": "code",
   "execution_count": 33,
   "metadata": {},
   "outputs": [
    {
     "name": "stdout",
     "output_type": "stream",
     "text": [
      "Essay xtrain-> (2244, 6941)\n",
      "Essay xcv-> (1106, 6941)\n",
      "Essay xtest-> (1650, 6941)\n"
     ]
    }
   ],
   "source": [
    "print('Essay xtrain->',xtrain_essay_bow.shape)\n",
    "print('Essay xcv->',xcv_essay_bow.shape)\n",
    "print('Essay xtest->',xtest_essay_bow.shape)"
   ]
  },
  {
   "cell_type": "markdown",
   "metadata": {},
   "source": [
    "### school_state"
   ]
  },
  {
   "cell_type": "code",
   "execution_count": 34,
   "metadata": {},
   "outputs": [],
   "source": [
    "vect.fit(xtrain['school_state'].values)\n",
    "xtrain_state_bow = vect.transform(xtrain['school_state'].values)\n",
    "xcv_state_bow = vect.transform(xcv['school_state'].values)\n",
    "xtest_state_bow = vect.transform(xtest['school_state'].values)"
   ]
  },
  {
   "cell_type": "code",
   "execution_count": 35,
   "metadata": {},
   "outputs": [
    {
     "name": "stdout",
     "output_type": "stream",
     "text": [
      "school state xtrain-> (2244, 40)\n",
      "school state xcv-> (1106, 40)\n",
      "school state xtest-> (1650, 40)\n"
     ]
    }
   ],
   "source": [
    "print('school state xtrain->',xtrain_state_bow.shape)\n",
    "print('school state xcv->',xcv_state_bow.shape)\n",
    "print('school state xtest->',xtest_state_bow.shape)"
   ]
  },
  {
   "cell_type": "markdown",
   "metadata": {},
   "source": [
    "### teacher_prefix"
   ]
  },
  {
   "cell_type": "code",
   "execution_count": 39,
   "metadata": {},
   "outputs": [],
   "source": [
    "vect.fit(xtrain['teacher_prefix'].values)\n",
    "xtrain_teacher_bow = vect.transform(xtrain['teacher_prefix'].values)\n",
    "xcv_teacher_bow = vect.transform(xcv['teacher_prefix'].values)\n",
    "xtest_teacher_bow = vect.transform(xtest['teacher_prefix'].values)"
   ]
  },
  {
   "cell_type": "code",
   "execution_count": 40,
   "metadata": {},
   "outputs": [
    {
     "name": "stdout",
     "output_type": "stream",
     "text": [
      "teacher prefix xtrain-> (2244, 4)\n",
      "teacher prefix xcv-> (2244, 4)\n",
      "teacher prefix xtest-> (2244, 4)\n"
     ]
    }
   ],
   "source": [
    "print('teacher prefix xtrain->',xtrain_teacher_bow.shape)\n",
    "print('teacher prefix xcv->',xtrain_teacher_bow.shape)\n",
    "print('teacher prefix xtest->',xtrain_teacher_bow.shape)"
   ]
  },
  {
   "cell_type": "markdown",
   "metadata": {},
   "source": [
    "### project_grade_category"
   ]
  },
  {
   "cell_type": "code",
   "execution_count": 41,
   "metadata": {},
   "outputs": [],
   "source": [
    "vect.fit(xtrain['project_grade_category'].values)\n",
    "xtrain_grade_bow = vect.transform(xtrain['project_grade_category'].values)\n",
    "xcv_grade_bow = vect.transform(xcv['project_grade_category'].values)\n",
    "xtest_grade_bow = vect.transform(xtest['project_grade_category'].values)"
   ]
  },
  {
   "cell_type": "code",
   "execution_count": 42,
   "metadata": {},
   "outputs": [
    {
     "name": "stdout",
     "output_type": "stream",
     "text": [
      "teacher prefix xtrain-> (2244, 4)\n",
      "teacher prefix xcv-> (1106, 4)\n",
      "teacher prefix xtest-> (1650, 4)\n"
     ]
    }
   ],
   "source": [
    "print('teacher prefix xtrain->',xtrain_grade_bow.shape)\n",
    "print('teacher prefix xcv->',xcv_grade_bow.shape)\n",
    "print('teacher prefix xtest->',xtest_grade_bow.shape)"
   ]
  },
  {
   "cell_type": "markdown",
   "metadata": {},
   "source": [
    "### clean_categories"
   ]
  },
  {
   "cell_type": "code",
   "execution_count": 43,
   "metadata": {},
   "outputs": [],
   "source": [
    "vect.fit(xtrain['clean_categories'].values)\n",
    "xtrain_categ_bow = vect.transform(xtrain['clean_categories'].values)\n",
    "xcv_categ_bow = vect.transform(xcv['clean_categories'].values)\n",
    "xtest_categ_bow = vect.transform(xtest['clean_categories'].values)"
   ]
  },
  {
   "cell_type": "code",
   "execution_count": 44,
   "metadata": {},
   "outputs": [
    {
     "name": "stdout",
     "output_type": "stream",
     "text": [
      "teacher prefix xtrain-> (2244, 27)\n",
      "teacher prefix xcv-> (1106, 27)\n",
      "teacher prefix xtest-> (1650, 27)\n"
     ]
    }
   ],
   "source": [
    "print('teacher prefix xtrain->',xtrain_categ_bow.shape)\n",
    "print('teacher prefix xcv->',xcv_categ_bow.shape)\n",
    "print('teacher prefix xtest->',xtest_categ_bow.shape)"
   ]
  },
  {
   "cell_type": "markdown",
   "metadata": {},
   "source": [
    "### clean_subcategories"
   ]
  },
  {
   "cell_type": "code",
   "execution_count": 45,
   "metadata": {},
   "outputs": [],
   "source": [
    "vect.fit(xtrain['clean_subcategories'].values)\n",
    "xtrain_sub_bow = vect.transform(xtrain['clean_subcategories'].values)\n",
    "xcv_sub_bow = vect.transform(xcv['clean_subcategories'].values)\n",
    "xtest_sub_bow = vect.transform(xtest['clean_subcategories'].values)"
   ]
  },
  {
   "cell_type": "code",
   "execution_count": 46,
   "metadata": {},
   "outputs": [
    {
     "name": "stdout",
     "output_type": "stream",
     "text": [
      "teacher prefix xtrain-> (2244, 54)\n",
      "teacher prefix xcv-> (1106, 54)\n",
      "teacher prefix xtest-> (1650, 54)\n"
     ]
    }
   ],
   "source": [
    "print('teacher prefix xtrain->',xtrain_sub_bow.shape)\n",
    "print('teacher prefix xcv->',xcv_sub_bow.shape)\n",
    "print('teacher prefix xtest->',xtest_sub_bow.shape)"
   ]
  },
  {
   "cell_type": "markdown",
   "metadata": {},
   "source": [
    "### price"
   ]
  },
  {
   "cell_type": "code",
   "execution_count": 49,
   "metadata": {},
   "outputs": [],
   "source": [
    "from sklearn.preprocessing import Normalizer\n",
    "norm = Normalizer()\n",
    "norm.fit(xtrain['price'].values.reshape(-1,1))\n",
    "xtrain_price = norm.transform(xtrain['price'].values.reshape(-1,1))\n",
    "xcv_price = norm.transform(xcv['price'].values.reshape(-1,1))\n",
    "xtest_price = norm.transform(xtest['price'].values.reshape(-1,1))"
   ]
  },
  {
   "cell_type": "code",
   "execution_count": 50,
   "metadata": {},
   "outputs": [
    {
     "name": "stdout",
     "output_type": "stream",
     "text": [
      "price xtrain-> (2244, 1)\n",
      "price xcv-> (1106, 1)\n",
      "price xtest-> (1650, 1)\n"
     ]
    }
   ],
   "source": [
    "print('price xtrain->',xtrain_price.shape)\n",
    "print('price xcv->',xcv_price.shape)\n",
    "print('price xtest->',xtest_price.shape)"
   ]
  },
  {
   "cell_type": "markdown",
   "metadata": {},
   "source": [
    "### teacher_number_of_previously_posted_projects"
   ]
  },
  {
   "cell_type": "code",
   "execution_count": 51,
   "metadata": {},
   "outputs": [],
   "source": [
    "from sklearn.preprocessing import Normalizer\n",
    "norm = Normalizer()\n",
    "norm.fit(xtrain['teacher_number_of_previously_posted_projects'].values.reshape(-1,1))\n",
    "xtrain_count = norm.transform(xtrain['teacher_number_of_previously_posted_projects'].values.reshape(-1,1))\n",
    "xcv_count = norm.transform(xcv['teacher_number_of_previously_posted_projects'].values.reshape(-1,1))\n",
    "xtest_count = norm.transform(xtest['teacher_number_of_previously_posted_projects'].values.reshape(-1,1))"
   ]
  },
  {
   "cell_type": "code",
   "execution_count": 52,
   "metadata": {},
   "outputs": [
    {
     "name": "stdout",
     "output_type": "stream",
     "text": [
      "price xtrain-> (2244, 1)\n",
      "price xcv-> (1106, 1)\n",
      "price xtest-> (1650, 1)\n"
     ]
    }
   ],
   "source": [
    "print('price xtrain->',xtrain_count.shape)\n",
    "print('price xcv->',xcv_count.shape)\n",
    "print('price xtest->',xtest_count.shape)"
   ]
  },
  {
   "cell_type": "code",
   "execution_count": 54,
   "metadata": {},
   "outputs": [],
   "source": [
    "from scipy.sparse import hstack\n",
    "xtrain_csr = hstack((xtrain_essay_bow,xtrain_state_bow,xtrain_teacher_bow,xtrain_grade_bow,xtrain_categ_bow,xtrain_sub_bow,xtrain_price, xtrain_count)).tocsr()\n",
    "xcv_csr = hstack((xcv_essay_bow,xcv_state_bow,xcv_teacher_bow,xcv_grade_bow,xcv_categ_bow,xcv_sub_bow,xcv_price, xcv_count)).tocsr()\n",
    "xtest_csr = hstack((xtest_essay_bow,xtest_state_bow,xtest_teacher_bow,xtest_grade_bow,xtest_categ_bow,xtest_sub_bow,xtest_price, xtest_count)).tocsr()"
   ]
  },
  {
   "cell_type": "code",
   "execution_count": 55,
   "metadata": {},
   "outputs": [
    {
     "name": "stdout",
     "output_type": "stream",
     "text": [
      "xtrain_csr-> (2244, 7072)\n",
      "xcv_csr-> (1106, 7072)\n",
      "xtest_csr-> (1650, 7072)\n"
     ]
    }
   ],
   "source": [
    "print('xtrain_csr->',xtrain_csr.shape)\n",
    "print('xcv_csr->',xcv_csr.shape)\n",
    "print('xtest_csr->',xtest_csr.shape)"
   ]
  },
  {
   "cell_type": "code",
   "execution_count": 56,
   "metadata": {},
   "outputs": [
    {
     "data": {
      "text/plain": [
       "Index(['school_state', 'teacher_prefix', 'project_grade_category',\n",
       "       'teacher_number_of_previously_posted_projects', 'project_is_approved',\n",
       "       'clean_categories', 'clean_subcategories', 'essay', 'price'],\n",
       "      dtype='object')"
      ]
     },
     "execution_count": 56,
     "metadata": {},
     "output_type": "execute_result"
    }
   ],
   "source": [
    "data.columns"
   ]
  },
  {
   "cell_type": "markdown",
   "metadata": {},
   "source": [
    "## Apply KNN classifier"
   ]
  },
  {
   "cell_type": "code",
   "execution_count": 76,
   "metadata": {},
   "outputs": [],
   "source": [
    "def batch_predict(model, xt):\n",
    "    loop_times = xt.shape[0] - xt.shape[0]%1000\n",
    "    ydata_pred = []\n",
    "    print('shape:', xt.shape)\n",
    "    for i in range(0,loop_times, 1000):\n",
    "        ydata_pred.extend(model.predict_proba(xt[i:i+1000])[:,1])\n",
    "    if xt.shape[0]%1000 != 0:\n",
    "        ydata_pred.extend(model.predict_proba(xt[loop_times:])[:,1])\n",
    "    return ydata_pred"
   ]
  },
  {
   "cell_type": "code",
   "execution_count": 81,
   "metadata": {},
   "outputs": [
    {
     "name": "stderr",
     "output_type": "stream",
     "text": [
      "\r",
      "  0%|                                                                                            | 0/6 [00:00<?, ?it/s]"
     ]
    },
    {
     "name": "stdout",
     "output_type": "stream",
     "text": [
      "shape: (2244, 7072)\n",
      "shape: (1106, 7072)\n"
     ]
    },
    {
     "name": "stderr",
     "output_type": "stream",
     "text": [
      "\r",
      " 17%|██████████████                                                                      | 1/6 [00:00<00:03,  1.27it/s]"
     ]
    },
    {
     "name": "stdout",
     "output_type": "stream",
     "text": [
      "shape: (2244, 7072)\n",
      "shape: (1106, 7072)\n"
     ]
    },
    {
     "name": "stderr",
     "output_type": "stream",
     "text": [
      "\r",
      " 33%|████████████████████████████                                                        | 2/6 [00:01<00:03,  1.23it/s]"
     ]
    },
    {
     "name": "stdout",
     "output_type": "stream",
     "text": [
      "shape: (2244, 7072)\n",
      "shape: (1106, 7072)\n"
     ]
    },
    {
     "name": "stderr",
     "output_type": "stream",
     "text": [
      "\r",
      " 50%|██████████████████████████████████████████                                          | 3/6 [00:02<00:02,  1.17it/s]"
     ]
    },
    {
     "name": "stdout",
     "output_type": "stream",
     "text": [
      "shape: (2244, 7072)\n",
      "shape: (1106, 7072)\n"
     ]
    },
    {
     "name": "stderr",
     "output_type": "stream",
     "text": [
      "\r",
      " 67%|████████████████████████████████████████████████████████                            | 4/6 [00:03<00:01,  1.18it/s]"
     ]
    },
    {
     "name": "stdout",
     "output_type": "stream",
     "text": [
      "shape: (2244, 7072)\n",
      "shape: (1106, 7072)\n"
     ]
    },
    {
     "name": "stderr",
     "output_type": "stream",
     "text": [
      "\r",
      " 83%|██████████████████████████████████████████████████████████████████████              | 5/6 [00:04<00:00,  1.18it/s]"
     ]
    },
    {
     "name": "stdout",
     "output_type": "stream",
     "text": [
      "shape: (2244, 7072)\n",
      "shape: (1106, 7072)\n"
     ]
    },
    {
     "name": "stderr",
     "output_type": "stream",
     "text": [
      "100%|████████████████████████████████████████████████████████████████████████████████████| 6/6 [00:05<00:00,  1.17it/s]\n"
     ]
    },
    {
     "data": {
      "image/png": "[encoded data removed]",
      "text/plain": [
       "<Figure size 432x288 with 1 Axes>"
      ]
     },
     "metadata": {
      "needs_background": "light"
     },
     "output_type": "display_data"
    }
   ],
   "source": [
    "from sklearn.neighbors import KNeighborsClassifier\n",
    "from sklearn.metrics import roc_auc_score\n",
    "\n",
    "n_parms = [3,15,25,51,75,101]\n",
    "\n",
    "data_loop = data.shape[0] - data.shape[0]%1000\n",
    "\n",
    "train_auc_score = []\n",
    "cv_auc_score = []\n",
    "\n",
    "for i in tqdm(n_parms):\n",
    "    classifier = KNeighborsClassifier(n_neighbors = i, n_jobs = -1)\n",
    "    classifier.fit(xtrain_csr,ytrain)\n",
    "    \n",
    "    ypred_train = batch_predict(classifier, xtrain_csr)\n",
    "    ypred_cv = batch_predict(classifier, xcv_csr)\n",
    "    \n",
    "    train_auc_score.append(roc_auc_score(ytrain, ypred_train))\n",
    "    cv_auc_score.append(roc_auc_score(ycv, ypred_cv))\n",
    "\n",
    "import matplotlib.pyplot as plt\n",
    "plt.plot(n_parms, train_auc_score, label = 'Train AUC')\n",
    "plt.plot(n_parms, cv_auc_score, label = 'CV AUC')\n",
    "plt.scatter(n_parms, train_auc_score, label = 'Train plot')\n",
    "plt.scatter(n_parms, cv_auc_score, label = 'CV AUC')\n",
    "plt.legend()\n",
    "plt.xlabel('K values')\n",
    "plt.ylabel('values')\n",
    "plt.title('AUC curve for KNN classifier')\n",
    "plt.grid()\n",
    "plt.show()\n",
    "    "
   ]
  },
  {
   "cell_type": "markdown",
   "metadata": {},
   "source": [
    "## RandomizedSearchCV"
   ]
  },
  {
   "cell_type": "code",
   "execution_count": 105,
   "metadata": {},
   "outputs": [
    {
     "data": {
      "image/png": "[encoded data removed]",
      "text/plain": [
       "<Figure size 432x288 with 1 Axes>"
      ]
     },
     "metadata": {
      "needs_background": "light"
     },
     "output_type": "display_data"
    }
   ],
   "source": [
    "neigh = KNeighborsClassifier(n_jobs=-1)\n",
    "parameters = {'n_neighbors':[3, 15, 25, 51, 101]}\n",
    "clf = RandomizedSearchCV(neigh, parameters, cv=3, scoring='roc_auc',return_train_score=True)\n",
    "clf.fit(xtrain_csr, ytrain)\n",
    "\n",
    "results = pd.DataFrame.from_dict(clf.cv_results_)\n",
    "results = results.sort_values(['param_n_neighbors'])\n",
    "\n",
    "train_auc = results['mean_train_score']\n",
    "cv_auc = results['mean_test_score'] \n",
    "\n",
    "plt.plot(parameters['n_neighbors'], train_auc, label = 'TRAIN AUC')\n",
    "plt.plot(parameters['n_neighbors'], cv_auc, label = 'CV AUC')\n",
    "plt.scatter(parameters['n_neighbors'], train_auc, label = 'TRAIN plot')\n",
    "plt.scatter(parameters['n_neighbors'], cv_auc, label = 'CV plot')\n",
    "plt.legend()\n",
    "plt.xlabel('hyper parameter values')\n",
    "plt.ylabel('AUC values')\n",
    "plt.title('AUC curve')\n",
    "plt.grid()\n",
    "plt.show()"
   ]
  },
  {
   "cell_type": "code",
   "execution_count": 112,
   "metadata": {},
   "outputs": [
    {
     "name": "stdout",
     "output_type": "stream",
     "text": [
      "shape: (2244, 7072)\n",
      "shape: (1650, 7072)\n"
     ]
    },
    {
     "data": {
      "image/png": "[encoded data removed]",
      "text/plain": [
       "<Figure size 432x288 with 1 Axes>"
      ]
     },
     "metadata": {
      "needs_background": "light"
     },
     "output_type": "display_data"
    }
   ],
   "source": [
    "k_best = 102\n",
    "\n",
    "neigh_best = KNeighborsClassifier(n_neighbors = k_best, n_jobs = -1)\n",
    "neigh_best.fit(xtrain_csr, ytrain)\n",
    "\n",
    "ytrain_pred = batch_predict(neigh_best, xtrain_csr)\n",
    "ytest_pred = batch_predict(neigh_best, xtest_csr)\n",
    "\n",
    "tr_fpr, tr_tpr, tr_threshold = roc_curve(ytrain, ytrain_pred)\n",
    "ts_fpr, ts_tpr, ts_threshold = roc_curve(ytest, ytest_pred)\n",
    "\n",
    "plt.plot(tr_fpr, tr_tpr, label = 'TRAIN AUC'+str(auc(tr_fpr,tr_tpr)))\n",
    "plt.plot(ts_fpr, ts_tpr, label = 'TEST AUC'+str(auc(ts_fpr,ts_tpr)))\n",
    "plt.xlabel('FPR')\n",
    "plt.ylabel('TPR')\n",
    "plt.title('ROC curve')\n",
    "plt.legend()\n",
    "plt.grid()\n",
    "plt.show()"
   ]
  },
  {
   "cell_type": "markdown",
   "metadata": {},
   "source": [
    "## Confusion matrix for both train and test "
   ]
  },
  {
   "cell_type": "code",
   "execution_count": 123,
   "metadata": {},
   "outputs": [],
   "source": [
    "def predict_for_best_t(tr, t):\n",
    "    predictions = []\n",
    "    for i in tr:\n",
    "        if i >= t:\n",
    "            predictions.append(1)\n",
    "        else:\n",
    "            predictions.append(0)\n",
    "    return predictions\n",
    "\n",
    "def find_best_threshold(fpr, tpr, threshold):\n",
    "    t = threshold[np.argmax(tpr*(1-fpr))]\n",
    "    print('threshold is :',np.round(t,3))\n",
    "    return t"
   ]
  },
  {
   "cell_type": "code",
   "execution_count": 131,
   "metadata": {},
   "outputs": [
    {
     "name": "stdout",
     "output_type": "stream",
     "text": [
      "threshold is : 0.833\n",
      "***** train data *****\n",
      "[[ 176  125]\n",
      " [ 678 1265]]\n",
      "***** test data *****\n",
      "[[101 120]\n",
      " [510 919]]\n"
     ]
    }
   ],
   "source": [
    "t = find_best_threshold(tr_fpr, tr_tpr, tr_threshold)\n",
    "\n",
    "print('*'*5,'train data','*'*5)\n",
    "print(confusion_matrix(ytrain, predict_for_best_t(ytrain_pred, t)))\n",
    "print('*'*5,'test data','*'*5)\n",
    "print(confusion_matrix(ytest, predict_for_best_t(ytest_pred, t)))"
   ]
  },
  {
   "cell_type": "markdown",
   "metadata": {},
   "source": [
    "## Apply Average W2V featurization on essay feature"
   ]
  },
  {
   "cell_type": "code",
   "execution_count": 134,
   "metadata": {},
   "outputs": [],
   "source": [
    "with open('glove_vectors', 'rb') as f:\n",
    "    model = pickle.load(f)\n",
    "    glove_words =  set(model.keys())"
   ]
  },
  {
   "cell_type": "code",
   "execution_count": 137,
   "metadata": {},
   "outputs": [
    {
     "name": "stderr",
     "output_type": "stream",
     "text": [
      "100%|████████████████████████████████████████████████████████████████████████████| 2244/2244 [00:00<00:00, 6157.24it/s]"
     ]
    },
    {
     "name": "stdout",
     "output_type": "stream",
     "text": [
      "2244\n",
      "300\n"
     ]
    },
    {
     "name": "stderr",
     "output_type": "stream",
     "text": [
      "\n"
     ]
    }
   ],
   "source": [
    "avg_w2vec_train = []\n",
    "for i in tqdm(xtrain['essay'].values):\n",
    "    vector = np.zeros(300)\n",
    "    count_words = 0\n",
    "    for word in i.split():\n",
    "        if word in glove_words:\n",
    "            vector = model[word]\n",
    "            count_words += 1\n",
    "    if count_words != 0:\n",
    "        vector /= count_words\n",
    "    avg_w2vec_train.append(vector)\n",
    "\n",
    "print(len(avg_w2vec_train))\n",
    "print(len(avg_w2vec_train[0]))"
   ]
  },
  {
   "cell_type": "code",
   "execution_count": 140,
   "metadata": {},
   "outputs": [
    {
     "name": "stderr",
     "output_type": "stream",
     "text": [
      "100%|████████████████████████████████████████████████████████████████████████████| 1106/1106 [00:00<00:00, 5924.35it/s]"
     ]
    },
    {
     "name": "stdout",
     "output_type": "stream",
     "text": [
      "1106\n",
      "300\n"
     ]
    },
    {
     "name": "stderr",
     "output_type": "stream",
     "text": [
      "\n"
     ]
    }
   ],
   "source": [
    "avg_w2vec_cv = []\n",
    "for i in tqdm(xcv['essay'].values):\n",
    "    vector = np.zeros(300)\n",
    "    count_words = 0\n",
    "    for word in i.split():\n",
    "        if word in glove_words:\n",
    "            vector = model[word]\n",
    "            count_words += 1\n",
    "    if count_words != 0:\n",
    "        vector /= count_words\n",
    "    avg_w2vec_cv.append(vector)\n",
    "\n",
    "print(len(avg_w2vec_cv))\n",
    "print(len(avg_w2vec_cv[0]))"
   ]
  },
  {
   "cell_type": "code",
   "execution_count": 141,
   "metadata": {},
   "outputs": [
    {
     "name": "stderr",
     "output_type": "stream",
     "text": [
      "100%|████████████████████████████████████████████████████████████████████████████| 1650/1650 [00:00<00:00, 5470.76it/s]"
     ]
    },
    {
     "name": "stdout",
     "output_type": "stream",
     "text": [
      "1650\n",
      "300\n"
     ]
    },
    {
     "name": "stderr",
     "output_type": "stream",
     "text": [
      "\n"
     ]
    }
   ],
   "source": [
    "avg_w2vec_test = []\n",
    "for sentence in tqdm(xtest['essay'].values):\n",
    "    vector = np.zeros(300)\n",
    "    count_words = 0\n",
    "    for word in sentence.split():\n",
    "        if word in glove_words:\n",
    "            vector = model[word]\n",
    "            count_words += 1\n",
    "    if count_words != 0:\n",
    "        vector /= count_words\n",
    "    avg_w2vec_test.append(vector)\n",
    "\n",
    "print(len(avg_w2vec_test))\n",
    "print(len(avg_w2vec_test[0]))"
   ]
  },
  {
   "cell_type": "code",
   "execution_count": 142,
   "metadata": {},
   "outputs": [],
   "source": [
    "from scipy.sparse import hstack\n",
    "xtrain_csr = hstack((avg_w2vec_train,xtrain_state_bow,xtrain_teacher_bow,xtrain_grade_bow,xtrain_categ_bow,xtrain_sub_bow,xtrain_price, xtrain_count)).tocsr()\n",
    "xcv_csr = hstack((avg_w2vec_cv,xcv_state_bow,xcv_teacher_bow,xcv_grade_bow,xcv_categ_bow,xcv_sub_bow,xcv_price, xcv_count)).tocsr()\n",
    "xtest_csr = hstack((avg_w2vec_test,xtest_state_bow,xtest_teacher_bow,xtest_grade_bow,xtest_categ_bow,xtest_sub_bow,xtest_price, xtest_count)).tocsr()"
   ]
  },
  {
   "cell_type": "code",
   "execution_count": 143,
   "metadata": {},
   "outputs": [
    {
     "name": "stdout",
     "output_type": "stream",
     "text": [
      "xtrain_csr-> (2244, 431)\n",
      "xcv_csr-> (1106, 431)\n",
      "xtest_csr-> (1650, 431)\n"
     ]
    }
   ],
   "source": [
    "print('xtrain_csr->',xtrain_csr.shape)\n",
    "print('xcv_csr->',xcv_csr.shape)\n",
    "print('xtest_csr->',xtest_csr.shape)"
   ]
  },
  {
   "cell_type": "markdown",
   "metadata": {},
   "source": [
    "## Now apply hper parameter tuning followed by confusion matrix"
   ]
  },
  {
   "cell_type": "code",
   "execution_count": 144,
   "metadata": {},
   "outputs": [
    {
     "name": "stderr",
     "output_type": "stream",
     "text": [
      "\r",
      "  0%|                                                                                            | 0/6 [00:00<?, ?it/s]"
     ]
    },
    {
     "name": "stdout",
     "output_type": "stream",
     "text": [
      "shape: (2244, 431)\n",
      "shape: (1106, 431)\n"
     ]
    },
    {
     "name": "stderr",
     "output_type": "stream",
     "text": [
      "\r",
      " 17%|██████████████                                                                      | 1/6 [00:02<00:12,  2.53s/it]"
     ]
    },
    {
     "name": "stdout",
     "output_type": "stream",
     "text": [
      "shape: (2244, 431)\n",
      "shape: (1106, 431)\n"
     ]
    },
    {
     "name": "stderr",
     "output_type": "stream",
     "text": [
      "\r",
      " 33%|████████████████████████████                                                        | 2/6 [00:05<00:10,  2.53s/it]"
     ]
    },
    {
     "name": "stdout",
     "output_type": "stream",
     "text": [
      "shape: (2244, 431)\n",
      "shape: (1106, 431)\n"
     ]
    },
    {
     "name": "stderr",
     "output_type": "stream",
     "text": [
      "\r",
      " 50%|██████████████████████████████████████████                                          | 3/6 [00:07<00:07,  2.52s/it]"
     ]
    },
    {
     "name": "stdout",
     "output_type": "stream",
     "text": [
      "shape: (2244, 431)\n",
      "shape: (1106, 431)\n"
     ]
    },
    {
     "name": "stderr",
     "output_type": "stream",
     "text": [
      "\r",
      " 67%|████████████████████████████████████████████████████████                            | 4/6 [00:10<00:05,  2.59s/it]"
     ]
    },
    {
     "name": "stdout",
     "output_type": "stream",
     "text": [
      "shape: (2244, 431)\n",
      "shape: (1106, 431)\n"
     ]
    },
    {
     "name": "stderr",
     "output_type": "stream",
     "text": [
      "\r",
      " 83%|██████████████████████████████████████████████████████████████████████              | 5/6 [00:13<00:02,  2.64s/it]"
     ]
    },
    {
     "name": "stdout",
     "output_type": "stream",
     "text": [
      "shape: (2244, 431)\n",
      "shape: (1106, 431)\n"
     ]
    },
    {
     "name": "stderr",
     "output_type": "stream",
     "text": [
      "100%|████████████████████████████████████████████████████████████████████████████████████| 6/6 [00:15<00:00,  2.60s/it]\n"
     ]
    },
    {
     "data": {
      "image/png": "[encoded data removed]",
      "text/plain": [
       "<Figure size 432x288 with 1 Axes>"
      ]
     },
     "metadata": {
      "needs_background": "light"
     },
     "output_type": "display_data"
    }
   ],
   "source": [
    "from sklearn.neighbors import KNeighborsClassifier\n",
    "from sklearn.metrics import roc_auc_score\n",
    "\n",
    "n_parms = [3,15,25,51,75,101]\n",
    "\n",
    "data_loop = data.shape[0] - data.shape[0]%1000\n",
    "\n",
    "train_auc_score = []\n",
    "cv_auc_score = []\n",
    "\n",
    "for i in tqdm(n_parms):\n",
    "    classifier = KNeighborsClassifier(n_neighbors = i, n_jobs = -1)\n",
    "    classifier.fit(xtrain_csr,ytrain)\n",
    "    \n",
    "    ypred_train = batch_predict(classifier, xtrain_csr)\n",
    "    ypred_cv = batch_predict(classifier, xcv_csr)\n",
    "    \n",
    "    train_auc_score.append(roc_auc_score(ytrain, ypred_train))\n",
    "    cv_auc_score.append(roc_auc_score(ycv, ypred_cv))\n",
    "\n",
    "import matplotlib.pyplot as plt\n",
    "plt.plot(n_parms, train_auc_score, label = 'Train AUC')\n",
    "plt.plot(n_parms, cv_auc_score, label = 'CV AUC')\n",
    "plt.scatter(n_parms, train_auc_score, label = 'Train plot')\n",
    "plt.scatter(n_parms, cv_auc_score, label = 'CV AUC')\n",
    "plt.legend()\n",
    "plt.xlabel('K values')\n",
    "plt.ylabel('values')\n",
    "plt.title('AUC curve for KNN classifier')\n",
    "plt.grid()\n",
    "plt.show()"
   ]
  },
  {
   "cell_type": "code",
   "execution_count": 145,
   "metadata": {},
   "outputs": [
    {
     "name": "stdout",
     "output_type": "stream",
     "text": [
      "shape: (2244, 431)\n",
      "shape: (1650, 431)\n"
     ]
    },
    {
     "data": {
      "image/png": "[encoded data removed]",
      "text/plain": [
       "<Figure size 432x288 with 1 Axes>"
      ]
     },
     "metadata": {
      "needs_background": "light"
     },
     "output_type": "display_data"
    }
   ],
   "source": [
    "k_best = 102\n",
    "\n",
    "neigh_best = KNeighborsClassifier(n_neighbors = k_best, n_jobs = -1)\n",
    "neigh_best.fit(xtrain_csr, ytrain)\n",
    "\n",
    "ytrain_pred = batch_predict(neigh_best, xtrain_csr)\n",
    "ytest_pred = batch_predict(neigh_best, xtest_csr)\n",
    "\n",
    "tr_fpr, tr_tpr, tr_threshold = roc_curve(ytrain, ytrain_pred)\n",
    "ts_fpr, ts_tpr, ts_threshold = roc_curve(ytest, ytest_pred)\n",
    "\n",
    "plt.plot(tr_fpr, tr_tpr, label = 'TRAIN AUC'+str(auc(tr_fpr,tr_tpr)))\n",
    "plt.plot(ts_fpr, ts_tpr, label = 'TEST AUC'+str(auc(ts_fpr,ts_tpr)))\n",
    "plt.xlabel('FPR')\n",
    "plt.ylabel('TPR')\n",
    "plt.title('ROC curve')\n",
    "plt.legend()\n",
    "plt.grid()\n",
    "plt.show()"
   ]
  },
  {
   "cell_type": "code",
   "execution_count": 146,
   "metadata": {},
   "outputs": [
    {
     "name": "stdout",
     "output_type": "stream",
     "text": [
      "threshold is : 0.873\n",
      "***** train data *****\n",
      "[[ 178  123]\n",
      " [ 835 1108]]\n",
      "***** test data *****\n",
      "[[105 116]\n",
      " [626 803]]\n"
     ]
    }
   ],
   "source": [
    "t = find_best_threshold(tr_fpr, tr_tpr, tr_threshold)\n",
    "\n",
    "print('*'*5,'train data','*'*5)\n",
    "print(confusion_matrix(ytrain, predict_for_best_t(ytrain_pred, t)))\n",
    "print('*'*5,'test data','*'*5)\n",
    "print(confusion_matrix(ytest, predict_for_best_t(ytest_pred, t)))"
   ]
  },
  {
   "cell_type": "code",
   "execution_count": null,
   "metadata": {},
   "outputs": [],
   "source": []
  }
 ],
 "metadata": {
  "kernelspec": {
   "display_name": "Python 3",
   "language": "python",
   "name": "python3"
  },
  "language_info": {
   "codemirror_mode": {
    "name": "ipython",
    "version": 3
   },
   "file_extension": ".py",
   "mimetype": "text/x-python",
   "name": "python",
   "nbconvert_exporter": "python",
   "pygments_lexer": "ipython3",
   "version": "3.8.5"
  }
 },
 "nbformat": 4,
 "nbformat_minor": 4
}
